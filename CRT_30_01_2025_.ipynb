{
  "nbformat": 4,
  "nbformat_minor": 0,
  "metadata": {
    "colab": {
      "provenance": [],
      "gpuType": "T4"
    },
    "kernelspec": {
      "name": "python3",
      "display_name": "Python 3"
    },
    "language_info": {
      "name": "python"
    },
    "accelerator": "GPU"
  },
  "cells": [
    {
      "cell_type": "code",
      "execution_count": 9,
      "metadata": {
        "id": "9cURw3Yz8GMK"
      },
      "outputs": [],
      "source": [
        "import io\n",
        "import random\n",
        "import string # to process standard python strings\n",
        "import warnings\n",
        "warnings.filterwarnings('ignore')\n",
        "import numpy as np\n",
        "from sklearn.feature_extraction.text import TfidfVectorizer # convert a collection of raw documents to a matrix of TF-IDF features\n",
        "from sklearn.metrics.pairwise import cosine_similarity\n",
        "from nltk.stem import WordNetLemmatizer"
      ]
    },
    {
      "cell_type": "code",
      "source": [
        "#!pip install nltk\n",
        "import nltk"
      ],
      "metadata": {
        "id": "D7l_QqOU9RSV"
      },
      "execution_count": 10,
      "outputs": []
    },
    {
      "cell_type": "code",
      "source": [
        "nltk.download('popular', quiet=True) # for downloading packages\n",
        "nltk.download('punkt') # first-time use only\n",
        "nltk.download('wordnet') # first-time use only"
      ],
      "metadata": {
        "colab": {
          "base_uri": "https://localhost:8080/"
        },
        "id": "Inno0nan9Uwx",
        "outputId": "db584c84-c91b-4eee-a714-c407b438d9dd"
      },
      "execution_count": 11,
      "outputs": [
        {
          "output_type": "stream",
          "name": "stderr",
          "text": [
            "[nltk_data] Downloading package punkt to /root/nltk_data...\n",
            "[nltk_data]   Package punkt is already up-to-date!\n",
            "[nltk_data] Downloading package wordnet to /root/nltk_data...\n",
            "[nltk_data]   Package wordnet is already up-to-date!\n"
          ]
        },
        {
          "output_type": "execute_result",
          "data": {
            "text/plain": [
              "True"
            ]
          },
          "metadata": {},
          "execution_count": 11
        }
      ]
    },
    {
      "cell_type": "code",
      "source": [
        "import nltk\n",
        "nltk.download('punkt_tab')"
      ],
      "metadata": {
        "colab": {
          "base_uri": "https://localhost:8080/"
        },
        "id": "2T8xqHIQChZJ",
        "outputId": "fee45277-f427-426f-cdc8-89c32c2cec69"
      },
      "execution_count": 15,
      "outputs": [
        {
          "output_type": "stream",
          "name": "stderr",
          "text": [
            "[nltk_data] Downloading package punkt_tab to /root/nltk_data...\n",
            "[nltk_data]   Unzipping tokenizers/punkt_tab.zip.\n"
          ]
        },
        {
          "output_type": "execute_result",
          "data": {
            "text/plain": [
              "True"
            ]
          },
          "metadata": {},
          "execution_count": 15
        }
      ]
    },
    {
      "cell_type": "code",
      "source": [
        "f=open('input.txt','r',errors = 'ignore')\n",
        "raw = f.read()\n",
        "raw = raw.lower()# converts to lowercase"
      ],
      "metadata": {
        "id": "T8ZKLMIr9VWx"
      },
      "execution_count": 12,
      "outputs": []
    },
    {
      "cell_type": "code",
      "source": [
        "import nltk\n",
        "sent_tokens = nltk.sent_tokenize(raw)# converts to list of sentences\n",
        "word_tokens = nltk.word_tokenize(raw)# converts to list of words"
      ],
      "metadata": {
        "id": "fq3Jtm8w9sPx"
      },
      "execution_count": 16,
      "outputs": []
    },
    {
      "cell_type": "code",
      "source": [
        "def response(user_response):\n",
        "    robo_response=''\n",
        "    sent_tokens.append(user_response)\n",
        "    TfidfVec = TfidfVectorizer(tokenizer=LemNormalize, stop_words='english')\n",
        "    tfidf = TfidfVec.fit_transform(sent_tokens)\n",
        "    vals = cosine_similarity(tfidf[-1], tfidf)\n",
        "    idx=vals.argsort()[0][-2]\n",
        "    flat = vals.flatten()\n",
        "    flat.sort()\n",
        "    req_tfidf = flat[-2]\n",
        "    if(req_tfidf==0):\n",
        "        robo_response=robo_response+\"I am sorry! I don't understand you.\"\n",
        "        return robo_response\n",
        "    else:\n",
        "        robo_response = robo_response+sent_tokens[idx]\n",
        "        return robo_response"
      ],
      "metadata": {
        "id": "UbKd3jxa92GB"
      },
      "execution_count": 14,
      "outputs": []
    },
    {
      "cell_type": "code",
      "source": [
        "flag = True\n",
        "print(\"SABot: My name is SABot. How can I assist you?\\n\"\n",
        "      \"If you want the truth, type: 'Rohit Sharma is the Greatest Cricketer Of All Time!'\")\n",
        "\n",
        "def greeting(sentence):\n",
        "    greetings = [\"hi\", \"hello\", \"hey\", \"greetings\"]\n",
        "    responses = [\"Hello!\", \"Hey there!\", \"Hi!\", \"Greetings!\"]\n",
        "\n",
        "    for word in sentence.split():\n",
        "        if word in greetings:\n",
        "            return responses[greetings.index(word)]\n",
        "    return None\n",
        "\n",
        "def response(user_input):\n",
        "    return \"I'm still learning. Can you rephrase that?\"\n",
        "\n",
        "while flag:\n",
        "    user_response = input().lower()\n",
        "\n",
        "    if user_response == 'bye':\n",
        "        flag = False\n",
        "        print(\"SABot: Yes! You are right...\")\n",
        "\n",
        "    elif user_response in ['thanks', 'thank you']:\n",
        "        flag = False\n",
        "        print(\"SABot: You are welcome...\")\n",
        "\n",
        "    else:\n",
        "        greeting_response = greeting(user_response)\n",
        "        if greeting_response:\n",
        "            print(\"SABot:\", greeting_response)\n",
        "        else:\n",
        "            print(\"SABot:\", response(user_response))\n"
      ],
      "metadata": {
        "colab": {
          "base_uri": "https://localhost:8080/"
        },
        "id": "imjU9iaqBcAD",
        "outputId": "bae643bb-5b0e-4b4d-ad5c-fa3950708060"
      },
      "execution_count": 27,
      "outputs": [
        {
          "output_type": "stream",
          "name": "stdout",
          "text": [
            "SABot: My name is SABot. How can I assist you?\n",
            "If you want the truth, type: 'Rohit Sharma is the Greatest Cricketer Of All Time!'\n",
            "Rohit Sharma is the Greatest Cricketer Of All Time\n",
            "SABot: I'm still learning. Can you rephrase that?\n",
            "bye\n",
            "SABot: Yes! You are right...\n"
          ]
        }
      ]
    },
    {
      "cell_type": "code",
      "source": [],
      "metadata": {
        "id": "RufnuTa4DfBQ"
      },
      "execution_count": null,
      "outputs": []
    }
  ]
}